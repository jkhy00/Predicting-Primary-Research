{
 "cells": [
  {
   "cell_type": "markdown",
   "metadata": {},
   "source": [
    "# <b>Data 102 Final Project Code</b>"
   ]
  },
  {
   "cell_type": "markdown",
   "metadata": {},
   "source": [
    "### <u>Import Necessary Libraries"
   ]
  },
  {
   "cell_type": "code",
   "execution_count": 1,
   "metadata": {},
   "outputs": [],
   "source": [
    "import matplotlib.pyplot as plt\n",
    "import numpy as np\n",
    "import pandas as pd\n",
    "import seaborn as sns\n",
    "from scipy.stats import multivariate_normal, norm, uniform\n",
    "from scipy.stats import poisson, norm, gamma\n",
    "import statsmodels.api as sm \n",
    "from sklearn.model_selection import train_test_split\n",
    "from sklearn.tree import plot_tree\n",
    "from sklearn.tree import DecisionTreeRegressor\n",
    "from sklearn.metrics import classification_report\n",
    "from sklearn.linear_model import LogisticRegression"
   ]
  },
  {
   "attachments": {},
   "cell_type": "markdown",
   "metadata": {},
   "source": [
    "### Read in Datasets"
   ]
  },
  {
   "cell_type": "code",
   "execution_count": 2,
   "metadata": {},
   "outputs": [],
   "source": [
    "dem = pd.read_csv('dem_candidates.csv')\n",
    "dem['Party'] = 'Democratic'\n",
    "rep = pd.read_csv('rep_candidates.csv', encoding='latin-1')\n",
    "rep['Party'] = 'Republican'\n",
    "candidate_FEC = pd.read_csv('candidate_summary_2018.csv')"
   ]
  },
  {
   "attachments": {},
   "cell_type": "markdown",
   "metadata": {},
   "source": [
    "## Combining Datasets"
   ]
  },
  {
   "attachments": {},
   "cell_type": "markdown",
   "metadata": {},
   "source": [
    "### Combining Democrat and Republican Data"
   ]
  },
  {
   "cell_type": "code",
   "execution_count": 3,
   "metadata": {},
   "outputs": [
    {
     "data": {
      "text/html": [
       "<div>\n",
       "<style scoped>\n",
       "    .dataframe tbody tr th:only-of-type {\n",
       "        vertical-align: middle;\n",
       "    }\n",
       "\n",
       "    .dataframe tbody tr th {\n",
       "        vertical-align: top;\n",
       "    }\n",
       "\n",
       "    .dataframe thead th {\n",
       "        text-align: right;\n",
       "    }\n",
       "</style>\n",
       "<table border=\"1\" class=\"dataframe\">\n",
       "  <thead>\n",
       "    <tr style=\"text-align: right;\">\n",
       "      <th></th>\n",
       "      <th>State</th>\n",
       "      <th>District</th>\n",
       "      <th>Office Type</th>\n",
       "      <th>Race Type</th>\n",
       "      <th>Race Primary Election Date</th>\n",
       "      <th>Primary Status</th>\n",
       "      <th>Primary Runoff Status</th>\n",
       "      <th>General Status</th>\n",
       "      <th>Partisan Lean</th>\n",
       "      <th>Primary %</th>\n",
       "      <th>...</th>\n",
       "      <th>NRA Endorsed?</th>\n",
       "      <th>Right to Life Endorsed?</th>\n",
       "      <th>Susan B. Anthony Endorsed?</th>\n",
       "      <th>Club for Growth Endorsed?</th>\n",
       "      <th>Koch Support?</th>\n",
       "      <th>House Freedom Support?</th>\n",
       "      <th>Tea Party Endorsed?</th>\n",
       "      <th>Main Street Endorsed?</th>\n",
       "      <th>Chamber Endorsed?</th>\n",
       "      <th>Candidate New</th>\n",
       "    </tr>\n",
       "  </thead>\n",
       "  <tbody>\n",
       "    <tr>\n",
       "      <th>0</th>\n",
       "      <td>AL</td>\n",
       "      <td>Governor of Alabama</td>\n",
       "      <td>Governor</td>\n",
       "      <td>Regular</td>\n",
       "      <td>6/5/18</td>\n",
       "      <td>Lost</td>\n",
       "      <td>None</td>\n",
       "      <td>None</td>\n",
       "      <td>-28.879999</td>\n",
       "      <td>3.42</td>\n",
       "      <td>...</td>\n",
       "      <td>NaN</td>\n",
       "      <td>NaN</td>\n",
       "      <td>NaN</td>\n",
       "      <td>NaN</td>\n",
       "      <td>NaN</td>\n",
       "      <td>NaN</td>\n",
       "      <td>NaN</td>\n",
       "      <td>NaN</td>\n",
       "      <td>NaN</td>\n",
       "      <td>ANTHONY WHITE</td>\n",
       "    </tr>\n",
       "    <tr>\n",
       "      <th>1</th>\n",
       "      <td>AL</td>\n",
       "      <td>Governor of Alabama</td>\n",
       "      <td>Governor</td>\n",
       "      <td>Regular</td>\n",
       "      <td>6/5/18</td>\n",
       "      <td>Lost</td>\n",
       "      <td>None</td>\n",
       "      <td>None</td>\n",
       "      <td>-28.879999</td>\n",
       "      <td>1.74</td>\n",
       "      <td>...</td>\n",
       "      <td>NaN</td>\n",
       "      <td>NaN</td>\n",
       "      <td>NaN</td>\n",
       "      <td>NaN</td>\n",
       "      <td>NaN</td>\n",
       "      <td>NaN</td>\n",
       "      <td>NaN</td>\n",
       "      <td>NaN</td>\n",
       "      <td>NaN</td>\n",
       "      <td>CHRISTOPHER COUNTRYMAN</td>\n",
       "    </tr>\n",
       "    <tr>\n",
       "      <th>2</th>\n",
       "      <td>AL</td>\n",
       "      <td>Governor of Alabama</td>\n",
       "      <td>Governor</td>\n",
       "      <td>Regular</td>\n",
       "      <td>6/5/18</td>\n",
       "      <td>Lost</td>\n",
       "      <td>None</td>\n",
       "      <td>None</td>\n",
       "      <td>-28.879999</td>\n",
       "      <td>3.27</td>\n",
       "      <td>...</td>\n",
       "      <td>NaN</td>\n",
       "      <td>NaN</td>\n",
       "      <td>NaN</td>\n",
       "      <td>NaN</td>\n",
       "      <td>NaN</td>\n",
       "      <td>NaN</td>\n",
       "      <td>NaN</td>\n",
       "      <td>NaN</td>\n",
       "      <td>NaN</td>\n",
       "      <td>DOUG SMITH</td>\n",
       "    </tr>\n",
       "    <tr>\n",
       "      <th>3</th>\n",
       "      <td>AL</td>\n",
       "      <td>Governor of Alabama</td>\n",
       "      <td>Governor</td>\n",
       "      <td>Regular</td>\n",
       "      <td>6/5/18</td>\n",
       "      <td>Lost</td>\n",
       "      <td>None</td>\n",
       "      <td>None</td>\n",
       "      <td>-28.879999</td>\n",
       "      <td>8.00</td>\n",
       "      <td>...</td>\n",
       "      <td>NaN</td>\n",
       "      <td>NaN</td>\n",
       "      <td>NaN</td>\n",
       "      <td>NaN</td>\n",
       "      <td>NaN</td>\n",
       "      <td>NaN</td>\n",
       "      <td>NaN</td>\n",
       "      <td>NaN</td>\n",
       "      <td>NaN</td>\n",
       "      <td>JAMES C. FIELDS</td>\n",
       "    </tr>\n",
       "    <tr>\n",
       "      <th>4</th>\n",
       "      <td>AL</td>\n",
       "      <td>Governor of Alabama</td>\n",
       "      <td>Governor</td>\n",
       "      <td>Regular</td>\n",
       "      <td>6/5/18</td>\n",
       "      <td>Lost</td>\n",
       "      <td>None</td>\n",
       "      <td>None</td>\n",
       "      <td>-28.879999</td>\n",
       "      <td>28.98</td>\n",
       "      <td>...</td>\n",
       "      <td>NaN</td>\n",
       "      <td>NaN</td>\n",
       "      <td>NaN</td>\n",
       "      <td>NaN</td>\n",
       "      <td>NaN</td>\n",
       "      <td>NaN</td>\n",
       "      <td>NaN</td>\n",
       "      <td>NaN</td>\n",
       "      <td>NaN</td>\n",
       "      <td>SUE BELL COBB</td>\n",
       "    </tr>\n",
       "  </tbody>\n",
       "</table>\n",
       "<p>5 rows × 46 columns</p>\n",
       "</div>"
      ],
      "text/plain": [
       "  State             District Office Type Race Type Race Primary Election Date  \\\n",
       "0    AL  Governor of Alabama    Governor   Regular                     6/5/18   \n",
       "1    AL  Governor of Alabama    Governor   Regular                     6/5/18   \n",
       "2    AL  Governor of Alabama    Governor   Regular                     6/5/18   \n",
       "3    AL  Governor of Alabama    Governor   Regular                     6/5/18   \n",
       "4    AL  Governor of Alabama    Governor   Regular                     6/5/18   \n",
       "\n",
       "  Primary Status Primary Runoff Status General Status  Partisan Lean  \\\n",
       "0           Lost                  None           None     -28.879999   \n",
       "1           Lost                  None           None     -28.879999   \n",
       "2           Lost                  None           None     -28.879999   \n",
       "3           Lost                  None           None     -28.879999   \n",
       "4           Lost                  None           None     -28.879999   \n",
       "\n",
       "   Primary %  ... NRA Endorsed? Right to Life Endorsed?  \\\n",
       "0       3.42  ...           NaN                     NaN   \n",
       "1       1.74  ...           NaN                     NaN   \n",
       "2       3.27  ...           NaN                     NaN   \n",
       "3       8.00  ...           NaN                     NaN   \n",
       "4      28.98  ...           NaN                     NaN   \n",
       "\n",
       "  Susan B. Anthony Endorsed? Club for Growth Endorsed? Koch Support?  \\\n",
       "0                        NaN                       NaN           NaN   \n",
       "1                        NaN                       NaN           NaN   \n",
       "2                        NaN                       NaN           NaN   \n",
       "3                        NaN                       NaN           NaN   \n",
       "4                        NaN                       NaN           NaN   \n",
       "\n",
       "  House Freedom Support? Tea Party Endorsed? Main Street Endorsed?  \\\n",
       "0                    NaN                 NaN                   NaN   \n",
       "1                    NaN                 NaN                   NaN   \n",
       "2                    NaN                 NaN                   NaN   \n",
       "3                    NaN                 NaN                   NaN   \n",
       "4                    NaN                 NaN                   NaN   \n",
       "\n",
       "  Chamber Endorsed?           Candidate New  \n",
       "0               NaN           ANTHONY WHITE  \n",
       "1               NaN  CHRISTOPHER COUNTRYMAN  \n",
       "2               NaN              DOUG SMITH  \n",
       "3               NaN         JAMES C. FIELDS  \n",
       "4               NaN           SUE BELL COBB  \n",
       "\n",
       "[5 rows x 46 columns]"
      ]
     },
     "execution_count": 3,
     "metadata": {},
     "output_type": "execute_result"
    }
   ],
   "source": [
    "combined = pd.concat([dem, rep])\n",
    "\n",
    "combined['Candidate New'] = combined['Candidate'].str.replace(r'\\s*\\([^)]*\\)|\\s*\".*?\"', '', regex=True)\n",
    "combined['Candidate New'] = combined['Candidate New'].str.upper()\n",
    "combined = combined.drop('Candidate', axis=1)\n",
    "combined.head()"
   ]
  },
  {
   "attachments": {},
   "cell_type": "markdown",
   "metadata": {},
   "source": [
    "### Reading in Federal Election Commission Data"
   ]
  },
  {
   "cell_type": "code",
   "execution_count": 4,
   "metadata": {},
   "outputs": [
    {
     "data": {
      "text/html": [
       "<div>\n",
       "<style scoped>\n",
       "    .dataframe tbody tr th:only-of-type {\n",
       "        vertical-align: middle;\n",
       "    }\n",
       "\n",
       "    .dataframe tbody tr th {\n",
       "        vertical-align: top;\n",
       "    }\n",
       "\n",
       "    .dataframe thead th {\n",
       "        text-align: right;\n",
       "    }\n",
       "</style>\n",
       "<table border=\"1\" class=\"dataframe\">\n",
       "  <thead>\n",
       "    <tr style=\"text-align: right;\">\n",
       "      <th></th>\n",
       "      <th>Candidate</th>\n",
       "      <th>Cand_Id</th>\n",
       "      <th>Total_Contribution</th>\n",
       "      <th>Cand_Party_Affiliation</th>\n",
       "      <th>Cand_State</th>\n",
       "      <th>Transfer_From_Other_Auth_Committee</th>\n",
       "    </tr>\n",
       "  </thead>\n",
       "  <tbody>\n",
       "    <tr>\n",
       "      <th>0</th>\n",
       "      <td>KEN ASHBY</td>\n",
       "      <td>H8TX05052</td>\n",
       "      <td>0.00</td>\n",
       "      <td>LIB</td>\n",
       "      <td>TX</td>\n",
       "      <td>0.0</td>\n",
       "    </tr>\n",
       "    <tr>\n",
       "      <th>1</th>\n",
       "      <td>DON ECKHART ELIJAH</td>\n",
       "      <td>S6OH00288</td>\n",
       "      <td>0.00</td>\n",
       "      <td>REP</td>\n",
       "      <td>OH</td>\n",
       "      <td>0.0</td>\n",
       "    </tr>\n",
       "    <tr>\n",
       "      <th>2</th>\n",
       "      <td>MICHAEL ZIESING VINCENT</td>\n",
       "      <td>S8CA00499</td>\n",
       "      <td>0.00</td>\n",
       "      <td>GRE</td>\n",
       "      <td>CA</td>\n",
       "      <td>0.0</td>\n",
       "    </tr>\n",
       "    <tr>\n",
       "      <th>3</th>\n",
       "      <td>ALBIO SIRES</td>\n",
       "      <td>H6NJ13191</td>\n",
       "      <td>459857.05</td>\n",
       "      <td>DEM</td>\n",
       "      <td>NJ</td>\n",
       "      <td>0.0</td>\n",
       "    </tr>\n",
       "    <tr>\n",
       "      <th>4</th>\n",
       "      <td>DOUGLAS SMITH MARK MR. JR.</td>\n",
       "      <td>H6MI03172</td>\n",
       "      <td>0.00</td>\n",
       "      <td>IND</td>\n",
       "      <td>MI</td>\n",
       "      <td>0.0</td>\n",
       "    </tr>\n",
       "  </tbody>\n",
       "</table>\n",
       "</div>"
      ],
      "text/plain": [
       "                    Candidate    Cand_Id  Total_Contribution  \\\n",
       "0                   KEN ASHBY  H8TX05052                0.00   \n",
       "1          DON ECKHART ELIJAH  S6OH00288                0.00   \n",
       "2     MICHAEL ZIESING VINCENT  S8CA00499                0.00   \n",
       "3                 ALBIO SIRES  H6NJ13191           459857.05   \n",
       "4  DOUGLAS SMITH MARK MR. JR.  H6MI03172                0.00   \n",
       "\n",
       "  Cand_Party_Affiliation Cand_State  Transfer_From_Other_Auth_Committee  \n",
       "0                    LIB         TX                                 0.0  \n",
       "1                    REP         OH                                 0.0  \n",
       "2                    GRE         CA                                 0.0  \n",
       "3                    DEM         NJ                                 0.0  \n",
       "4                    IND         MI                                 0.0  "
      ]
     },
     "execution_count": 4,
     "metadata": {},
     "output_type": "execute_result"
    }
   ],
   "source": [
    "candidate_FEC['Candidate'] = candidate_FEC['Cand_Name'].str.replace(r'(\\w+), (\\w+)', r'\\2 \\1', regex=True)\n",
    "candidate_FEC = candidate_FEC.drop('Cand_Name', axis=1)\n",
    "candidate_FEC = candidate_FEC[['Candidate', 'Cand_Id', 'Total_Contribution', \n",
    "                               'Cand_Party_Affiliation', 'Cand_State', 'Transfer_From_Other_Auth_Committee']]\n",
    "candidate_FEC.head()"
   ]
  },
  {
   "cell_type": "markdown",
   "metadata": {},
   "source": [
    "### Merge all data into one consolidated dataset"
   ]
  },
  {
   "cell_type": "code",
   "execution_count": 5,
   "metadata": {},
   "outputs": [
    {
     "data": {
      "text/html": [
       "<div>\n",
       "<style scoped>\n",
       "    .dataframe tbody tr th:only-of-type {\n",
       "        vertical-align: middle;\n",
       "    }\n",
       "\n",
       "    .dataframe tbody tr th {\n",
       "        vertical-align: top;\n",
       "    }\n",
       "\n",
       "    .dataframe thead th {\n",
       "        text-align: right;\n",
       "    }\n",
       "</style>\n",
       "<table border=\"1\" class=\"dataframe\">\n",
       "  <thead>\n",
       "    <tr style=\"text-align: right;\">\n",
       "      <th></th>\n",
       "      <th>State</th>\n",
       "      <th>District</th>\n",
       "      <th>Office Type</th>\n",
       "      <th>Race Type</th>\n",
       "      <th>Race Primary Election Date</th>\n",
       "      <th>Primary Status</th>\n",
       "      <th>Primary Runoff Status</th>\n",
       "      <th>General Status</th>\n",
       "      <th>Partisan Lean</th>\n",
       "      <th>Primary %</th>\n",
       "      <th>...</th>\n",
       "      <th>House Freedom Support?</th>\n",
       "      <th>Tea Party Endorsed?</th>\n",
       "      <th>Main Street Endorsed?</th>\n",
       "      <th>Chamber Endorsed?</th>\n",
       "      <th>Candidate</th>\n",
       "      <th>Cand_Id</th>\n",
       "      <th>Total_Contribution</th>\n",
       "      <th>Cand_Party_Affiliation</th>\n",
       "      <th>Cand_State</th>\n",
       "      <th>Transfer_From_Other_Auth_Committee</th>\n",
       "    </tr>\n",
       "  </thead>\n",
       "  <tbody>\n",
       "    <tr>\n",
       "      <th>0</th>\n",
       "      <td>AL</td>\n",
       "      <td>U.S. House Alabama District 1</td>\n",
       "      <td>Representative</td>\n",
       "      <td>Regular</td>\n",
       "      <td>6/5/18</td>\n",
       "      <td>Advanced</td>\n",
       "      <td>None</td>\n",
       "      <td>On the Ballot</td>\n",
       "      <td>-30.680000</td>\n",
       "      <td>80.769997</td>\n",
       "      <td>...</td>\n",
       "      <td>NaN</td>\n",
       "      <td>NaN</td>\n",
       "      <td>NaN</td>\n",
       "      <td>NaN</td>\n",
       "      <td>ROBERT KENNEDY JR.</td>\n",
       "      <td>H8AL01066</td>\n",
       "      <td>46845.21</td>\n",
       "      <td>DEM</td>\n",
       "      <td>AL</td>\n",
       "      <td>0.0</td>\n",
       "    </tr>\n",
       "    <tr>\n",
       "      <th>1</th>\n",
       "      <td>AL</td>\n",
       "      <td>U.S. House Alabama District 3</td>\n",
       "      <td>Representative</td>\n",
       "      <td>Regular</td>\n",
       "      <td>6/5/18</td>\n",
       "      <td>Advanced</td>\n",
       "      <td>None</td>\n",
       "      <td>On the Ballot</td>\n",
       "      <td>-33.660000</td>\n",
       "      <td>65.739998</td>\n",
       "      <td>...</td>\n",
       "      <td>NaN</td>\n",
       "      <td>NaN</td>\n",
       "      <td>NaN</td>\n",
       "      <td>NaN</td>\n",
       "      <td>MALLORY HAGAN</td>\n",
       "      <td>H8AL03054</td>\n",
       "      <td>440309.26</td>\n",
       "      <td>DEM</td>\n",
       "      <td>AL</td>\n",
       "      <td>0.0</td>\n",
       "    </tr>\n",
       "    <tr>\n",
       "      <th>2</th>\n",
       "      <td>AL</td>\n",
       "      <td>U.S. House Alabama District 6</td>\n",
       "      <td>Representative</td>\n",
       "      <td>Regular</td>\n",
       "      <td>6/5/18</td>\n",
       "      <td>Advanced</td>\n",
       "      <td>None</td>\n",
       "      <td>On the Ballot</td>\n",
       "      <td>-48.459999</td>\n",
       "      <td>100.000000</td>\n",
       "      <td>...</td>\n",
       "      <td>NaN</td>\n",
       "      <td>NaN</td>\n",
       "      <td>NaN</td>\n",
       "      <td>NaN</td>\n",
       "      <td>DANNER KLINE</td>\n",
       "      <td>H8AL06099</td>\n",
       "      <td>287432.23</td>\n",
       "      <td>DEM</td>\n",
       "      <td>AL</td>\n",
       "      <td>0.0</td>\n",
       "    </tr>\n",
       "    <tr>\n",
       "      <th>3</th>\n",
       "      <td>AR</td>\n",
       "      <td>U.S. House Arkansas District 1</td>\n",
       "      <td>Representative</td>\n",
       "      <td>Regular</td>\n",
       "      <td>5/22/18</td>\n",
       "      <td>Advanced</td>\n",
       "      <td>None</td>\n",
       "      <td>On the Ballot</td>\n",
       "      <td>-34.810001</td>\n",
       "      <td>100.000000</td>\n",
       "      <td>...</td>\n",
       "      <td>NaN</td>\n",
       "      <td>NaN</td>\n",
       "      <td>NaN</td>\n",
       "      <td>NaN</td>\n",
       "      <td>CHINTAN DESAI</td>\n",
       "      <td>H8AR01029</td>\n",
       "      <td>137153.22</td>\n",
       "      <td>DEM</td>\n",
       "      <td>AR</td>\n",
       "      <td>0.0</td>\n",
       "    </tr>\n",
       "    <tr>\n",
       "      <th>4</th>\n",
       "      <td>AR</td>\n",
       "      <td>U.S. House Arkansas District 2</td>\n",
       "      <td>Representative</td>\n",
       "      <td>Regular</td>\n",
       "      <td>5/22/18</td>\n",
       "      <td>Lost</td>\n",
       "      <td>None</td>\n",
       "      <td>None</td>\n",
       "      <td>-13.510000</td>\n",
       "      <td>9.340000</td>\n",
       "      <td>...</td>\n",
       "      <td>NaN</td>\n",
       "      <td>NaN</td>\n",
       "      <td>NaN</td>\n",
       "      <td>NaN</td>\n",
       "      <td>JONATHAN DUNKLEY</td>\n",
       "      <td>H8AR02167</td>\n",
       "      <td>24466.05</td>\n",
       "      <td>DEM</td>\n",
       "      <td>AR</td>\n",
       "      <td>0.0</td>\n",
       "    </tr>\n",
       "  </tbody>\n",
       "</table>\n",
       "<p>5 rows × 51 columns</p>\n",
       "</div>"
      ],
      "text/plain": [
       "  State                        District     Office Type Race Type  \\\n",
       "0    AL   U.S. House Alabama District 1  Representative   Regular   \n",
       "1    AL   U.S. House Alabama District 3  Representative   Regular   \n",
       "2    AL   U.S. House Alabama District 6  Representative   Regular   \n",
       "3    AR  U.S. House Arkansas District 1  Representative   Regular   \n",
       "4    AR  U.S. House Arkansas District 2  Representative   Regular   \n",
       "\n",
       "  Race Primary Election Date Primary Status Primary Runoff Status  \\\n",
       "0                     6/5/18       Advanced                  None   \n",
       "1                     6/5/18       Advanced                  None   \n",
       "2                     6/5/18       Advanced                  None   \n",
       "3                    5/22/18       Advanced                  None   \n",
       "4                    5/22/18           Lost                  None   \n",
       "\n",
       "  General Status  Partisan Lean   Primary %  ... House Freedom Support?  \\\n",
       "0  On the Ballot     -30.680000   80.769997  ...                    NaN   \n",
       "1  On the Ballot     -33.660000   65.739998  ...                    NaN   \n",
       "2  On the Ballot     -48.459999  100.000000  ...                    NaN   \n",
       "3  On the Ballot     -34.810001  100.000000  ...                    NaN   \n",
       "4           None     -13.510000    9.340000  ...                    NaN   \n",
       "\n",
       "  Tea Party Endorsed? Main Street Endorsed? Chamber Endorsed?  \\\n",
       "0                 NaN                   NaN               NaN   \n",
       "1                 NaN                   NaN               NaN   \n",
       "2                 NaN                   NaN               NaN   \n",
       "3                 NaN                   NaN               NaN   \n",
       "4                 NaN                   NaN               NaN   \n",
       "\n",
       "            Candidate    Cand_Id Total_Contribution Cand_Party_Affiliation  \\\n",
       "0  ROBERT KENNEDY JR.  H8AL01066           46845.21                    DEM   \n",
       "1       MALLORY HAGAN  H8AL03054          440309.26                    DEM   \n",
       "2        DANNER KLINE  H8AL06099          287432.23                    DEM   \n",
       "3       CHINTAN DESAI  H8AR01029          137153.22                    DEM   \n",
       "4    JONATHAN DUNKLEY  H8AR02167           24466.05                    DEM   \n",
       "\n",
       "  Cand_State Transfer_From_Other_Auth_Committee  \n",
       "0         AL                                0.0  \n",
       "1         AL                                0.0  \n",
       "2         AL                                0.0  \n",
       "3         AR                                0.0  \n",
       "4         AR                                0.0  \n",
       "\n",
       "[5 rows x 51 columns]"
      ]
     },
     "execution_count": 5,
     "metadata": {},
     "output_type": "execute_result"
    }
   ],
   "source": [
    "total_df = combined.merge(candidate_FEC, left_on='Candidate New', right_on='Candidate')\n",
    "total_df = total_df.drop('Candidate New', axis=1)\n",
    "total_df.head()"
   ]
  },
  {
   "attachments": {},
   "cell_type": "markdown",
   "metadata": {},
   "source": [
    "## Visualizations (EDA)"
   ]
  },
  {
   "cell_type": "markdown",
   "metadata": {},
   "source": [
    "### Visualization 1"
   ]
  },
  {
   "cell_type": "code",
   "execution_count": 6,
   "metadata": {},
   "outputs": [
    {
     "data": {
      "text/plain": [
       "<matplotlib.legend.Legend at 0x7f7ca8ec5610>"
      ]
     },
     "execution_count": 6,
     "metadata": {},
     "output_type": "execute_result"
    },
    {
     "data": {
      "image/png": "[encoded data removed]",
      "text/plain": [
       "<Figure size 576x432 with 1 Axes>"
      ]
     },
     "metadata": {
      "needs_background": "light"
     },
     "output_type": "display_data"
    }
   ],
   "source": [
    "# Visualization 1 (Categorical)* \n",
    "# Democrat vs Republic\n",
    "counts = total_df.groupby(['Cand_Party_Affiliation', 'Won Primary']).size().unstack(fill_value=0)\n",
    "counts['Total'] = counts.sum(axis=1)\n",
    "counts = counts.sort_values(by='Total', ascending=False)\n",
    "\n",
    "# Create the stacked bar chart\n",
    "plt.figure(figsize=(8, 6))\n",
    "plt.bar(counts.index, counts['No'], label='No', color='skyblue') \n",
    "plt.bar(counts.index, counts['Yes'], bottom=counts['No'], label='Yes', color='orange')\n",
    "\n",
    "# Add labels and title\n",
    "plt.title('Proportions of Candidates by Party and Winning Primary', fontsize=14)\n",
    "plt.xlabel('Candidate Party Affiliation', fontsize=12)\n",
    "plt.ylabel('Count', fontsize=12)\n",
    "plt.legend(title='Won Primary', loc='upper right', fontsize=10)"
   ]
  },
  {
   "attachments": {},
   "cell_type": "markdown",
   "metadata": {},
   "source": [
    "There seems to be a similar number of Democratic and Republican candidates in the dataset to equally represent each party. The proportion of candidates winning a primary or not also seems to be approximately even between these two parties. This could suggest that party affiliation does not play a huge role in winning a primary, but rather, has more to do with other factors of each candidate. Therefore, this relates to our first research question regarding party affiliation and predicting whether or not a candidate won a primary."
   ]
  },
  {
   "cell_type": "markdown",
   "metadata": {},
   "source": [
    "### Visualization 2"
   ]
  },
  {
   "cell_type": "code",
   "execution_count": 7,
   "metadata": {},
   "outputs": [
    {
     "data": {
      "text/plain": [
       "Text(0, 0.5, 'Number of Candidates')"
      ]
     },
     "execution_count": 7,
     "metadata": {},
     "output_type": "execute_result"
    },
    {
     "data": {
      "image/png": "[encoded data removed]",
      "text/plain": [
       "<Figure size 1080x432 with 1 Axes>"
      ]
     },
     "metadata": {
      "needs_background": "light"
     },
     "output_type": "display_data"
    }
   ],
   "source": [
    "# Visualization 2 (Categorical)* \n",
    "# How many candidates in each state\n",
    "state_counts = total_df[\"State\"].value_counts()\n",
    "state_counts.plot(kind=\"bar\",figsize=(15, 6))\n",
    "plt.title('Number of Candidates per State in 2018')\n",
    "plt.xlabel('State')\n",
    "plt.ylabel('Number of Candidates')"
   ]
  },
  {
   "attachments": {},
   "cell_type": "markdown",
   "metadata": {},
   "source": [
    "One thing that I notice is that state with the highest number of candidates is California followed by Texas. The states with higher populations tended to have higher number of candidates. Also, not all states are represented on this bar graph, there are 3 states that do not have candidates. \n",
    "\n",
    "This is relevant to our second research question: 'Does endorsement status (whether or not the candidate is endorsed) cause an increase in the lean of the district?' because for states with more candidates like California and Texas, it may be harder to decipher since there may be more confounding variables across all the candidates.\n",
    "\n"
   ]
  },
  {
   "cell_type": "markdown",
   "metadata": {},
   "source": [
    "### Visualization 3"
   ]
  },
  {
   "cell_type": "code",
   "execution_count": 8,
   "metadata": {},
   "outputs": [
    {
     "data": {
      "image/png": "[encoded data removed]",
      "text/plain": [
       "<Figure size 864x432 with 1 Axes>"
      ]
     },
     "metadata": {
      "needs_background": "light"
     },
     "output_type": "display_data"
    }
   ],
   "source": [
    "# Visualization 3 (Quantitative)* \n",
    "# Distribution of the total contributions\n",
    "\n",
    "state_contributions = total_df.groupby('Cand_State')['Total_Contribution'].sum().reset_index()\n",
    "state_contributions = state_contributions.sort_values(by='Total_Contribution', ascending=False)\n",
    "plt.figure(figsize=(12, 6))\n",
    "plt.bar(state_contributions['Cand_State'], state_contributions['Total_Contribution'], color='pink')\n",
    "plt.title('Sum of Total Contributions by State', fontsize=16)\n",
    "plt.xlabel('State', fontsize=14)\n",
    "plt.ylabel('Total Contributions (in $10,000,000)')\n",
    "plt.show()\n"
   ]
  },
  {
   "cell_type": "markdown",
   "metadata": {},
   "source": [
    "### Visualization 3.5"
   ]
  },
  {
   "cell_type": "code",
   "execution_count": 9,
   "metadata": {},
   "outputs": [
    {
     "data": {
      "text/html": [
       "<div>\n",
       "<style scoped>\n",
       "    .dataframe tbody tr th:only-of-type {\n",
       "        vertical-align: middle;\n",
       "    }\n",
       "\n",
       "    .dataframe tbody tr th {\n",
       "        vertical-align: top;\n",
       "    }\n",
       "\n",
       "    .dataframe thead th {\n",
       "        text-align: right;\n",
       "    }\n",
       "</style>\n",
       "<table border=\"1\" class=\"dataframe\">\n",
       "  <thead>\n",
       "    <tr style=\"text-align: right;\">\n",
       "      <th></th>\n",
       "      <th>Cand_State</th>\n",
       "      <th>Total_Contribution</th>\n",
       "    </tr>\n",
       "  </thead>\n",
       "  <tbody>\n",
       "    <tr>\n",
       "      <th>0</th>\n",
       "      <td>AL</td>\n",
       "      <td>774586.70</td>\n",
       "    </tr>\n",
       "    <tr>\n",
       "      <th>1</th>\n",
       "      <td>AR</td>\n",
       "      <td>161619.27</td>\n",
       "    </tr>\n",
       "    <tr>\n",
       "      <th>2</th>\n",
       "      <td>AZ</td>\n",
       "      <td>32508767.32</td>\n",
       "    </tr>\n",
       "    <tr>\n",
       "      <th>3</th>\n",
       "      <td>CA</td>\n",
       "      <td>58375546.45</td>\n",
       "    </tr>\n",
       "    <tr>\n",
       "      <th>4</th>\n",
       "      <td>CO</td>\n",
       "      <td>5186609.26</td>\n",
       "    </tr>\n",
       "    <tr>\n",
       "      <th>5</th>\n",
       "      <td>CT</td>\n",
       "      <td>449937.35</td>\n",
       "    </tr>\n",
       "    <tr>\n",
       "      <th>6</th>\n",
       "      <td>DC</td>\n",
       "      <td>3700764.05</td>\n",
       "    </tr>\n",
       "    <tr>\n",
       "      <th>7</th>\n",
       "      <td>DE</td>\n",
       "      <td>0.00</td>\n",
       "    </tr>\n",
       "    <tr>\n",
       "      <th>8</th>\n",
       "      <td>FL</td>\n",
       "      <td>4670035.62</td>\n",
       "    </tr>\n",
       "    <tr>\n",
       "      <th>9</th>\n",
       "      <td>GA</td>\n",
       "      <td>5439747.73</td>\n",
       "    </tr>\n",
       "  </tbody>\n",
       "</table>\n",
       "</div>"
      ],
      "text/plain": [
       "  Cand_State  Total_Contribution\n",
       "0         AL           774586.70\n",
       "1         AR           161619.27\n",
       "2         AZ         32508767.32\n",
       "3         CA         58375546.45\n",
       "4         CO          5186609.26\n",
       "5         CT           449937.35\n",
       "6         DC          3700764.05\n",
       "7         DE                0.00\n",
       "8         FL          4670035.62\n",
       "9         GA          5439747.73"
      ]
     },
     "execution_count": 9,
     "metadata": {},
     "output_type": "execute_result"
    }
   ],
   "source": [
    "state_contributions = total_df.groupby('Cand_State')['Total_Contribution'].sum().reset_index()\n",
    "\n",
    "top_states = state_contributions.sort_values(by='Total_Contribution', ascending=False).head(10)\n",
    "\n",
    "# top 10 state contributors\n",
    "state_contributions.head(10)"
   ]
  },
  {
   "cell_type": "code",
   "execution_count": 10,
   "metadata": {},
   "outputs": [
    {
     "data": {
      "image/png": "[encoded data removed]",
      "text/plain": [
       "<Figure size 864x432 with 1 Axes>"
      ]
     },
     "metadata": {
      "needs_background": "light"
     },
     "output_type": "display_data"
    }
   ],
   "source": [
    "plt.figure(figsize=(12, 6))\n",
    "sns.violinplot(\n",
    "    y='Cand_Party_Affiliation', \n",
    "    x='Total_Contribution', \n",
    "    data=total_df, \n",
    "    palette='muted'\n",
    ")\n",
    "plt.title('Distribution of Contributions by Top 10 States', fontsize=16)\n",
    "plt.xlabel('Total Contribution (in $10,000,000)', fontsize=14)\n",
    "plt.ylabel('Party Affiliation', fontsize=14)\n",
    "plt.xticks(rotation=45)\n",
    "plt.tight_layout()\n",
    "plt.show()"
   ]
  },
  {
   "attachments": {},
   "cell_type": "markdown",
   "metadata": {},
   "source": [
    "Seeing the distribution of the contributions for each party suggests that the Democratic and Republican parties have more candidates that are receiving contributions compared to the other parties. This is also shown by the wide range of values in the violin plots for the two parties, whereas the other parties only have a distribution of zero. This relates to both research questions where we can see how the contributions are distributed across both party affiliation and state. This helps show the nuance in how contributions are divided between different candidates; we can take this into account when trying to predict whether they won the primary because we can see from the plot that the Democratic and Republican parties are the main parties that get contributions in general."
   ]
  },
  {
   "cell_type": "markdown",
   "metadata": {},
   "source": [
    "### Visualization 4"
   ]
  },
  {
   "cell_type": "code",
   "execution_count": 11,
   "metadata": {},
   "outputs": [],
   "source": [
    "endorsed_cols = ['Party Support?', 'Emily Endorsed?', 'Biden Endorsed?', 'Warren Endorsed? ', 'Sanders Endorsed?', 'Our Revolution Endorsed?',\n",
    "                 'Justice Dems Endorsed?', 'PCCC Endorsed?','Indivisible Endorsed?',\n",
    "                'WFP Endorsed?', 'VoteVets Endorsed?', 'No Labels Support?',\n",
    "                'Rep Party Support?', 'Trump Endorsed?', 'Bannon Endorsed?',\n",
    "                'Great America Endorsed?', 'NRA Endorsed?', 'Right to Life Endorsed?',\n",
    "                'Susan B. Anthony Endorsed?', 'Club for Growth Endorsed?',\n",
    "                'Koch Support?', 'House Freedom Support?', 'Tea Party Endorsed?',\n",
    "                'Main Street Endorsed?', 'Chamber Endorsed?']\n",
    "endorsed = total_df[endorsed_cols]\n",
    "endorsed = endorsed.replace({'No': 0,\n",
    "                  'Yes': 1})\n",
    "endorsed[~endorsed['Emily Endorsed?'].isna()]['Emily Endorsed?']\n",
    "\n",
    "endorse = endorsed.sum(axis = 1)\n",
    "endorse = endorse.mask(endorse >=1, 1)\n",
    "total_df['Endorsed?'] = endorse\n"
   ]
  },
  {
   "cell_type": "code",
   "execution_count": 13,
   "metadata": {},
   "outputs": [
    {
     "data": {
      "text/plain": [
       "Text(0.5, 1, 'Distribution of Partisan Lean by Endorsement')"
      ]
     },
     "execution_count": 13,
     "metadata": {},
     "output_type": "execute_result"
    },
    {
     "data": {
      "image/png": "[encoded data removed]",
      "text/plain": [
       "<Figure size 420.125x360 with 1 Axes>"
      ]
     },
     "metadata": {
      "needs_background": "light"
     },
     "output_type": "display_data"
    }
   ],
   "source": [
    "# Visualization 4 (Quantitative)* \n",
    "# Transer from other auth committee\n",
    "sns.displot(data = total_df, x = 'Partisan Lean', hue = 'Endorsed?', kind='kde')\n",
    "plt.title('Distribution of Partisan Lean by Endorsement')"
   ]
  },
  {
   "attachments": {},
   "cell_type": "markdown",
   "metadata": {},
   "source": [
    "The plot shows that being endorsed and not endorsed both have a similar mean below zero. However, we can still see how not being endorsed has a higher concentration around that mean. We also notice a slight increase in the density of partisan lean between values of 50 and 75. This relates to our second research question because this graph examines the two variables we are attempting to find a causal relationship between. From this graph, we can initially hypothesize that there may not be a causal relationship between endorsement and partisan lean."
   ]
  },
  {
   "cell_type": "markdown",
   "metadata": {},
   "source": [
    "### Visualization 5"
   ]
  },
  {
   "cell_type": "code",
   "execution_count": 14,
   "metadata": {},
   "outputs": [
    {
     "data": {
      "text/plain": [
       "Text(0.5, 1.0, 'Distribution of Support from Other Committees')"
      ]
     },
     "execution_count": 14,
     "metadata": {},
     "output_type": "execute_result"
    },
    {
     "data": {
      "image/png": "[encoded data removed]",
      "text/plain": [
       "<Figure size 432x288 with 1 Axes>"
      ]
     },
     "metadata": {
      "needs_background": "light"
     },
     "output_type": "display_data"
    }
   ],
   "source": [
    "# Visualization 5 (Categorical)\n",
    "sns.histplot(data = total_df, x = 'Transfer_From_Other_Auth_Committee', hue = 'Won Primary')\n",
    "plt.title('Distribution of Support from Other Committees')"
   ]
  },
  {
   "attachments": {},
   "cell_type": "markdown",
   "metadata": {},
   "source": [
    "We can see that most people who did not win the primary election had no transfers from other committees, whereas the few people that did get transfers seem to have won the primary. This relates to the first research question in trying to predict whether they win the primary or not. It is still difficult to determine whether or not the candidate won because there is a reasonable amount of people who won the primary that did not get the transfer."
   ]
  },
  {
   "attachments": {},
   "cell_type": "markdown",
   "metadata": {},
   "source": [
    "## <b>Research Question 1"
   ]
  },
  {
   "cell_type": "markdown",
   "metadata": {},
   "source": [
    "### Q) How can we predict winning primary elections from campaign financing and primary election data?"
   ]
  },
  {
   "attachments": {},
   "cell_type": "markdown",
   "metadata": {},
   "source": [
    "### a) Nonparametric Method:"
   ]
  },
  {
   "cell_type": "code",
   "execution_count": 15,
   "metadata": {},
   "outputs": [
    {
     "name": "stderr",
     "output_type": "stream",
     "text": [
      "/Users/minookim/opt/anaconda3/lib/python3.7/site-packages/ipykernel_launcher.py:3: SettingWithCopyWarning: \n",
      "A value is trying to be set on a copy of a slice from a DataFrame.\n",
      "Try using .loc[row_indexer,col_indexer] = value instead\n",
      "\n",
      "See the caveats in the documentation: https://pandas.pydata.org/pandas-docs/stable/user_guide/indexing.html#returning-a-view-versus-a-copy\n",
      "  This is separate from the ipykernel package so we can avoid doing imports until\n",
      "/Users/minookim/opt/anaconda3/lib/python3.7/site-packages/ipykernel_launcher.py:4: SettingWithCopyWarning: \n",
      "A value is trying to be set on a copy of a slice from a DataFrame.\n",
      "Try using .loc[row_indexer,col_indexer] = value instead\n",
      "\n",
      "See the caveats in the documentation: https://pandas.pydata.org/pandas-docs/stable/user_guide/indexing.html#returning-a-view-versus-a-copy\n",
      "  after removing the cwd from sys.path.\n",
      "/Users/minookim/opt/anaconda3/lib/python3.7/site-packages/ipykernel_launcher.py:5: SettingWithCopyWarning: \n",
      "A value is trying to be set on a copy of a slice from a DataFrame.\n",
      "Try using .loc[row_indexer,col_indexer] = value instead\n",
      "\n",
      "See the caveats in the documentation: https://pandas.pydata.org/pandas-docs/stable/user_guide/indexing.html#returning-a-view-versus-a-copy\n",
      "  \"\"\"\n",
      "/Users/minookim/opt/anaconda3/lib/python3.7/site-packages/ipykernel_launcher.py:6: SettingWithCopyWarning: \n",
      "A value is trying to be set on a copy of a slice from a DataFrame.\n",
      "Try using .loc[row_indexer,col_indexer] = value instead\n",
      "\n",
      "See the caveats in the documentation: https://pandas.pydata.org/pandas-docs/stable/user_guide/indexing.html#returning-a-view-versus-a-copy\n",
      "  \n",
      "/Users/minookim/opt/anaconda3/lib/python3.7/site-packages/ipykernel_launcher.py:7: SettingWithCopyWarning: \n",
      "A value is trying to be set on a copy of a slice from a DataFrame.\n",
      "Try using .loc[row_indexer,col_indexer] = value instead\n",
      "\n",
      "See the caveats in the documentation: https://pandas.pydata.org/pandas-docs/stable/user_guide/indexing.html#returning-a-view-versus-a-copy\n",
      "  import sys\n",
      "/Users/minookim/opt/anaconda3/lib/python3.7/site-packages/ipykernel_launcher.py:8: SettingWithCopyWarning: \n",
      "A value is trying to be set on a copy of a slice from a DataFrame.\n",
      "Try using .loc[row_indexer,col_indexer] = value instead\n",
      "\n",
      "See the caveats in the documentation: https://pandas.pydata.org/pandas-docs/stable/user_guide/indexing.html#returning-a-view-versus-a-copy\n",
      "  \n",
      "/Users/minookim/opt/anaconda3/lib/python3.7/site-packages/ipykernel_launcher.py:9: SettingWithCopyWarning: \n",
      "A value is trying to be set on a copy of a slice from a DataFrame.\n",
      "Try using .loc[row_indexer,col_indexer] = value instead\n",
      "\n",
      "See the caveats in the documentation: https://pandas.pydata.org/pandas-docs/stable/user_guide/indexing.html#returning-a-view-versus-a-copy\n",
      "  if __name__ == '__main__':\n"
     ]
    }
   ],
   "source": [
    "# 0 = Dem, 1 = Rep\n",
    "temp_df = total_df[total_df['Cand_Party_Affiliation'].isin([\"DEM\", \"REP\"])]\n",
    "temp_df['Cand_Party_Affiliation'] = temp_df['Cand_Party_Affiliation'].map({\"DEM\": 0, \"REP\": 1})\n",
    "temp_df[\"General Status\"] = temp_df[\"General Status\"].map({\"On the Ballot\": 1})\n",
    "temp_df[\"General Status\"] = temp_df[\"General Status\"].fillna(0)\n",
    "temp_df[\"Primary Status\"] = temp_df[\"Primary Status\"].map({\"Lost\": 0, \"Advanced\": 1})\n",
    "temp_df[\"Race\"] = temp_df[\"Race\"].map({\"Nonwhite\": 0, \"White\": 1}).fillna(0)\n",
    "temp_df[\"Race Type\"] = temp_df[\"Race Type\"].map({\"Regular\": 0, \"Special\": 1})\n",
    "temp_df[\"Partisan Lean\"] = temp_df[\"Partisan Lean\"].fillna(0)\n",
    "temp_df = temp_df.fillna(0)\n",
    "temp_df[\"Won Primary\"] = temp_df['Won Primary'].map({\"No\": 0, \"Yes\": 1}).fillna(0)\n",
    "\n",
    "X_cols = ['State', 'Race Type', \n",
    "        'Partisan Lean', 'Race', 'Total_Contribution', 'Cand_Party_Affiliation',\n",
    "       'Endorsed?', 'Primary %','Primary Status']\n",
    "X = temp_df[X_cols]\n",
    "y = temp_df['Won Primary']\n"
   ]
  },
  {
   "cell_type": "code",
   "execution_count": 16,
   "metadata": {},
   "outputs": [
    {
     "name": "stderr",
     "output_type": "stream",
     "text": [
      "/Users/minookim/opt/anaconda3/lib/python3.7/site-packages/ipykernel_launcher.py:10: SettingWithCopyWarning: \n",
      "A value is trying to be set on a copy of a slice from a DataFrame.\n",
      "Try using .loc[row_indexer,col_indexer] = value instead\n",
      "\n",
      "See the caveats in the documentation: https://pandas.pydata.org/pandas-docs/stable/user_guide/indexing.html#returning-a-view-versus-a-copy\n",
      "  # Remove the CWD from sys.path while we load stuff.\n"
     ]
    },
    {
     "data": {
      "text/html": [
       "<div>\n",
       "<style scoped>\n",
       "    .dataframe tbody tr th:only-of-type {\n",
       "        vertical-align: middle;\n",
       "    }\n",
       "\n",
       "    .dataframe tbody tr th {\n",
       "        vertical-align: top;\n",
       "    }\n",
       "\n",
       "    .dataframe thead th {\n",
       "        text-align: right;\n",
       "    }\n",
       "</style>\n",
       "<table border=\"1\" class=\"dataframe\">\n",
       "  <thead>\n",
       "    <tr style=\"text-align: right;\">\n",
       "      <th></th>\n",
       "      <th>State</th>\n",
       "      <th>Race Type</th>\n",
       "      <th>Partisan Lean</th>\n",
       "      <th>Race</th>\n",
       "      <th>Total_Contribution</th>\n",
       "      <th>Cand_Party_Affiliation</th>\n",
       "      <th>Endorsed?</th>\n",
       "      <th>Primary %</th>\n",
       "      <th>Primary Status</th>\n",
       "    </tr>\n",
       "  </thead>\n",
       "  <tbody>\n",
       "    <tr>\n",
       "      <th>0</th>\n",
       "      <td>1</td>\n",
       "      <td>0</td>\n",
       "      <td>-30.680000</td>\n",
       "      <td>0.0</td>\n",
       "      <td>46845.21</td>\n",
       "      <td>0</td>\n",
       "      <td>0.0</td>\n",
       "      <td>80.769997</td>\n",
       "      <td>1.0</td>\n",
       "    </tr>\n",
       "    <tr>\n",
       "      <th>1</th>\n",
       "      <td>1</td>\n",
       "      <td>0</td>\n",
       "      <td>-33.660000</td>\n",
       "      <td>1.0</td>\n",
       "      <td>440309.26</td>\n",
       "      <td>0</td>\n",
       "      <td>0.0</td>\n",
       "      <td>65.739998</td>\n",
       "      <td>1.0</td>\n",
       "    </tr>\n",
       "    <tr>\n",
       "      <th>2</th>\n",
       "      <td>1</td>\n",
       "      <td>0</td>\n",
       "      <td>-48.459999</td>\n",
       "      <td>1.0</td>\n",
       "      <td>287432.23</td>\n",
       "      <td>0</td>\n",
       "      <td>0.0</td>\n",
       "      <td>100.000000</td>\n",
       "      <td>1.0</td>\n",
       "    </tr>\n",
       "    <tr>\n",
       "      <th>3</th>\n",
       "      <td>1</td>\n",
       "      <td>0</td>\n",
       "      <td>-34.810001</td>\n",
       "      <td>0.0</td>\n",
       "      <td>137153.22</td>\n",
       "      <td>0</td>\n",
       "      <td>1.0</td>\n",
       "      <td>100.000000</td>\n",
       "      <td>1.0</td>\n",
       "    </tr>\n",
       "    <tr>\n",
       "      <th>4</th>\n",
       "      <td>1</td>\n",
       "      <td>0</td>\n",
       "      <td>-13.510000</td>\n",
       "      <td>0.0</td>\n",
       "      <td>24466.05</td>\n",
       "      <td>0</td>\n",
       "      <td>0.0</td>\n",
       "      <td>9.340000</td>\n",
       "      <td>0.0</td>\n",
       "    </tr>\n",
       "    <tr>\n",
       "      <th>...</th>\n",
       "      <td>...</td>\n",
       "      <td>...</td>\n",
       "      <td>...</td>\n",
       "      <td>...</td>\n",
       "      <td>...</td>\n",
       "      <td>...</td>\n",
       "      <td>...</td>\n",
       "      <td>...</td>\n",
       "      <td>...</td>\n",
       "    </tr>\n",
       "    <tr>\n",
       "      <th>652</th>\n",
       "      <td>1</td>\n",
       "      <td>0</td>\n",
       "      <td>0.000000</td>\n",
       "      <td>0.0</td>\n",
       "      <td>0.00</td>\n",
       "      <td>1</td>\n",
       "      <td>0.0</td>\n",
       "      <td>10.400000</td>\n",
       "      <td>0.0</td>\n",
       "    </tr>\n",
       "    <tr>\n",
       "      <th>653</th>\n",
       "      <td>1</td>\n",
       "      <td>0</td>\n",
       "      <td>0.000000</td>\n",
       "      <td>0.0</td>\n",
       "      <td>272317.76</td>\n",
       "      <td>1</td>\n",
       "      <td>1.0</td>\n",
       "      <td>100.000000</td>\n",
       "      <td>1.0</td>\n",
       "    </tr>\n",
       "    <tr>\n",
       "      <th>654</th>\n",
       "      <td>1</td>\n",
       "      <td>0</td>\n",
       "      <td>0.000000</td>\n",
       "      <td>0.0</td>\n",
       "      <td>0.00</td>\n",
       "      <td>1</td>\n",
       "      <td>0.0</td>\n",
       "      <td>55.600000</td>\n",
       "      <td>1.0</td>\n",
       "    </tr>\n",
       "    <tr>\n",
       "      <th>655</th>\n",
       "      <td>1</td>\n",
       "      <td>0</td>\n",
       "      <td>0.000000</td>\n",
       "      <td>0.0</td>\n",
       "      <td>5412468.20</td>\n",
       "      <td>1</td>\n",
       "      <td>1.0</td>\n",
       "      <td>49.000000</td>\n",
       "      <td>1.0</td>\n",
       "    </tr>\n",
       "    <tr>\n",
       "      <th>656</th>\n",
       "      <td>1</td>\n",
       "      <td>0</td>\n",
       "      <td>0.000000</td>\n",
       "      <td>0.0</td>\n",
       "      <td>3817828.49</td>\n",
       "      <td>1</td>\n",
       "      <td>1.0</td>\n",
       "      <td>42.900000</td>\n",
       "      <td>0.0</td>\n",
       "    </tr>\n",
       "  </tbody>\n",
       "</table>\n",
       "<p>650 rows × 9 columns</p>\n",
       "</div>"
      ],
      "text/plain": [
       "     State  Race Type  Partisan Lean  Race  Total_Contribution  \\\n",
       "0        1          0     -30.680000   0.0            46845.21   \n",
       "1        1          0     -33.660000   1.0           440309.26   \n",
       "2        1          0     -48.459999   1.0           287432.23   \n",
       "3        1          0     -34.810001   0.0           137153.22   \n",
       "4        1          0     -13.510000   0.0            24466.05   \n",
       "..     ...        ...            ...   ...                 ...   \n",
       "652      1          0       0.000000   0.0                0.00   \n",
       "653      1          0       0.000000   0.0           272317.76   \n",
       "654      1          0       0.000000   0.0                0.00   \n",
       "655      1          0       0.000000   0.0          5412468.20   \n",
       "656      1          0       0.000000   0.0          3817828.49   \n",
       "\n",
       "     Cand_Party_Affiliation  Endorsed?   Primary %  Primary Status  \n",
       "0                         0        0.0   80.769997             1.0  \n",
       "1                         0        0.0   65.739998             1.0  \n",
       "2                         0        0.0  100.000000             1.0  \n",
       "3                         0        1.0  100.000000             1.0  \n",
       "4                         0        0.0    9.340000             0.0  \n",
       "..                      ...        ...         ...             ...  \n",
       "652                       1        0.0   10.400000             0.0  \n",
       "653                       1        1.0  100.000000             1.0  \n",
       "654                       1        0.0   55.600000             1.0  \n",
       "655                       1        1.0   49.000000             1.0  \n",
       "656                       1        1.0   42.900000             0.0  \n",
       "\n",
       "[650 rows x 9 columns]"
      ]
     },
     "execution_count": 16,
     "metadata": {},
     "output_type": "execute_result"
    }
   ],
   "source": [
    "# Split based off state population\n",
    "def categorize(value):\n",
    "    if value >= 20:  # Big -> 3\n",
    "        return 3\n",
    "    elif value >= 10:  # Medium -> 2\n",
    "        return 2\n",
    "    else:  # Small -> 1\n",
    "        return 1\n",
    "\n",
    "X['State'] = X['State'].replace(X['State'].value_counts().apply(categorize).to_dict())\n",
    "X"
   ]
  },
  {
   "cell_type": "code",
   "execution_count": 17,
   "metadata": {},
   "outputs": [
    {
     "name": "stdout",
     "output_type": "stream",
     "text": [
      "(435, 7) (435,)\n"
     ]
    }
   ],
   "source": [
    "X_dt = X[['State', 'Race Type', \n",
    "        'Partisan Lean', 'Race', 'Total_Contribution', 'Cand_Party_Affiliation',\n",
    "       'Endorsed?']]\n",
    "X_train, X_test, y_train, y_test = train_test_split(X_dt, y, test_size=0.33, random_state=42)\n",
    "train, test = train_test_split(temp_df, test_size=0.3, random_state=101)\n",
    "\n",
    "print(X_train.shape, y_train.shape)\n"
   ]
  },
  {
   "attachments": {},
   "cell_type": "markdown",
   "metadata": {},
   "source": [
    "Prediction using a Decision Tree:"
   ]
  },
  {
   "cell_type": "code",
   "execution_count": 18,
   "metadata": {},
   "outputs": [
    {
     "name": "stderr",
     "output_type": "stream",
     "text": [
      "/Users/minookim/opt/anaconda3/lib/python3.7/site-packages/ipykernel_launcher.py:5: SettingWithCopyWarning: \n",
      "A value is trying to be set on a copy of a slice from a DataFrame.\n",
      "Try using .loc[row_indexer,col_indexer] = value instead\n",
      "\n",
      "See the caveats in the documentation: https://pandas.pydata.org/pandas-docs/stable/user_guide/indexing.html#returning-a-view-versus-a-copy\n",
      "  \"\"\"\n",
      "/Users/minookim/opt/anaconda3/lib/python3.7/site-packages/ipykernel_launcher.py:6: SettingWithCopyWarning: \n",
      "A value is trying to be set on a copy of a slice from a DataFrame.\n",
      "Try using .loc[row_indexer,col_indexer] = value instead\n",
      "\n",
      "See the caveats in the documentation: https://pandas.pydata.org/pandas-docs/stable/user_guide/indexing.html#returning-a-view-versus-a-copy\n",
      "  \n"
     ]
    }
   ],
   "source": [
    "tree_model = DecisionTreeRegressor()\n",
    "\n",
    "tree_model.fit(X_train, y_train)\n",
    "\n",
    "X_train[\"tree_pred\"] = tree_model.predict(X_train)\n",
    "X_test[\"tree_pred\"] = tree_model.predict(X_test)"
   ]
  },
  {
   "cell_type": "code",
   "execution_count": 19,
   "metadata": {},
   "outputs": [
    {
     "name": "stdout",
     "output_type": "stream",
     "text": [
      "              precision    recall  f1-score   support\n",
      "\n",
      "         0.0       0.85      0.83      0.84       152\n",
      "         1.0       0.61      0.65      0.63        63\n",
      "\n",
      "    accuracy                           0.78       215\n",
      "   macro avg       0.73      0.74      0.74       215\n",
      "weighted avg       0.78      0.78      0.78       215\n",
      "\n",
      "Training set error for decision tree: 0.1652982830507728\n",
      "Test set error for decision tree: 0.4718618514185885\n"
     ]
    }
   ],
   "source": [
    "print(classification_report(y_test, X_test['tree_pred'].apply(round)))\n",
    "train_rmse = np.mean((X_train[\"tree_pred\"] - y_train) ** 2) ** 0.5\n",
    "test_rmse = np.mean((X_test[\"tree_pred\"] - y_test) ** 2) ** 0.5\n",
    "\n",
    "print(\"Training set error for decision tree:\", train_rmse)\n",
    "print(\"Test set error for decision tree:\", test_rmse)"
   ]
  },
  {
   "cell_type": "code",
   "execution_count": 20,
   "metadata": {},
   "outputs": [
    {
     "data": {
      "image/png": "[encoded data removed]",
      "text/plain": [
       "<Figure size 1152x288 with 1 Axes>"
      ]
     },
     "metadata": {
      "needs_background": "light"
     },
     "output_type": "display_data"
    },
    {
     "data": {
      "image/png": "[encoded data removed]",
      "text/plain": [
       "<Figure size 864x504 with 1 Axes>"
      ]
     },
     "metadata": {
      "needs_background": "light"
     },
     "output_type": "display_data"
    }
   ],
   "source": [
    "plt.figure(figsize=(16, 4))\n",
    "plot_tree(tree_model);\n",
    "# plot max depth\n",
    "plt.figure(figsize=(12, 7))\n",
    "plot_tree(tree_model, max_depth=2, fontsize=14, feature_names=X_cols);"
   ]
  },
  {
   "attachments": {},
   "cell_type": "markdown",
   "metadata": {},
   "source": [
    "### b) Frequentist Binomial GLM"
   ]
  },
  {
   "cell_type": "code",
   "execution_count": 23,
   "metadata": {},
   "outputs": [
    {
     "name": "stdout",
     "output_type": "stream",
     "text": [
      "                 Generalized Linear Model Regression Results                  \n",
      "==============================================================================\n",
      "Dep. Variable:            Won Primary   No. Observations:                  435\n",
      "Model:                            GLM   Df Residuals:                      427\n",
      "Model Family:                Binomial   Df Model:                            7\n",
      "Link Function:                  logit   Scale:                          1.0000\n",
      "Method:                          IRLS   Log-Likelihood:                -215.72\n",
      "Date:                Mon, 16 Dec 2024   Deviance:                       431.43\n",
      "Time:                        15:52:03   Pearson chi2:                 1.01e+03\n",
      "No. Iterations:                     7                                         \n",
      "Covariance Type:            nonrobust                                         \n",
      "==========================================================================================\n",
      "                             coef    std err          z      P>|z|      [0.025      0.975]\n",
      "------------------------------------------------------------------------------------------\n",
      "const                     -2.4519      0.553     -4.434      0.000      -3.536      -1.368\n",
      "State                      0.1549      0.161      0.963      0.336      -0.160       0.470\n",
      "Race Type                 -0.9188      0.814     -1.128      0.259      -2.515       0.677\n",
      "Partisan Lean             -0.0310      0.010     -2.968      0.003      -0.051      -0.011\n",
      "Race                      -0.2884      0.381     -0.757      0.449      -1.035       0.458\n",
      "Cand_Party_Affiliation     0.9461      0.348      2.716      0.007       0.263       1.629\n",
      "Total_Contribution      1.404e-06    2.3e-07      6.118      0.000    9.54e-07    1.85e-06\n",
      "Endorsed?                  0.3076      0.289      1.064      0.288      -0.259       0.875\n",
      "==========================================================================================\n"
     ]
    }
   ],
   "source": [
    "# Model on training data (all valid features)\n",
    "freq_model_train = sm.GLM(y_train, exog = sm.add_constant(X_train[['State', 'Race Type', \n",
    "        'Partisan Lean', 'Race', 'Cand_Party_Affiliation', 'Total_Contribution',\n",
    "        'Endorsed?']]), #'Primary %','Primary Status',\n",
    "                  family=sm.families.Binomial())\n",
    "freq_res_train = freq_model_train.fit()\n",
    "print(freq_res_train.summary())"
   ]
  },
  {
   "cell_type": "code",
   "execution_count": 24,
   "metadata": {},
   "outputs": [
    {
     "name": "stdout",
     "output_type": "stream",
     "text": [
      "                 Generalized Linear Model Regression Results                  \n",
      "==============================================================================\n",
      "Dep. Variable:            Won Primary   No. Observations:                  215\n",
      "Model:                            GLM   Df Residuals:                      207\n",
      "Model Family:                Binomial   Df Model:                            7\n",
      "Link Function:                  logit   Scale:                          1.0000\n",
      "Method:                          IRLS   Log-Likelihood:                -90.104\n",
      "Date:                Mon, 16 Dec 2024   Deviance:                       180.21\n",
      "Time:                        15:52:04   Pearson chi2:                     247.\n",
      "No. Iterations:                     7                                         \n",
      "Covariance Type:            nonrobust                                         \n",
      "==========================================================================================\n",
      "                             coef    std err          z      P>|z|      [0.025      0.975]\n",
      "------------------------------------------------------------------------------------------\n",
      "const                     -3.2649      0.909     -3.590      0.000      -5.047      -1.483\n",
      "State                     -0.1542      0.263     -0.587      0.557      -0.669       0.361\n",
      "Race Type                 -2.7799      2.543     -1.093      0.274      -7.763       2.204\n",
      "Partisan Lean             -0.0634      0.017     -3.642      0.000      -0.098      -0.029\n",
      "Race                       0.7401      0.603      1.228      0.219      -0.441       1.921\n",
      "Cand_Party_Affiliation     2.2366      0.702      3.185      0.001       0.860       3.613\n",
      "Total_Contribution      1.576e-06   3.59e-07      4.392      0.000    8.73e-07    2.28e-06\n",
      "Endorsed?                 -0.0793      0.471     -0.169      0.866      -1.002       0.844\n",
      "==========================================================================================\n"
     ]
    }
   ],
   "source": [
    "# model on test data\n",
    "freq_model_test = sm.GLM(y_test, exog = sm.add_constant(X_test[['State', 'Race Type',\n",
    "        'Partisan Lean', 'Race', 'Cand_Party_Affiliation', 'Total_Contribution',\n",
    "        'Endorsed?']]), #'Primary %',  Primary Status'\n",
    "                  family=sm.families.Binomial())\n",
    "freq_res_test = freq_model_test.fit()\n",
    "print(freq_res_test.summary())"
   ]
  },
  {
   "cell_type": "code",
   "execution_count": 25,
   "metadata": {},
   "outputs": [],
   "source": [
    "#model 1\n",
    "model_1_aic_train = sm.tools.eval_measures.aic(freq_res_train.llf, 435, 7)\n",
    "model_1_aic_test = sm.tools.eval_measures.aic(freq_res_test.llf, 215, 7)\n"
   ]
  },
  {
   "cell_type": "code",
   "execution_count": 26,
   "metadata": {},
   "outputs": [
    {
     "name": "stdout",
     "output_type": "stream",
     "text": [
      "                 Generalized Linear Model Regression Results                  \n",
      "==============================================================================\n",
      "Dep. Variable:            Won Primary   No. Observations:                  435\n",
      "Model:                            GLM   Df Residuals:                      430\n",
      "Model Family:                Binomial   Df Model:                            4\n",
      "Link Function:                  logit   Scale:                          1.0000\n",
      "Method:                          IRLS   Log-Likelihood:                -217.32\n",
      "Date:                Mon, 16 Dec 2024   Deviance:                       434.64\n",
      "Time:                        15:52:07   Pearson chi2:                 1.41e+03\n",
      "No. Iterations:                     7                                         \n",
      "Covariance Type:            nonrobust                                         \n",
      "==========================================================================================\n",
      "                             coef    std err          z      P>|z|      [0.025      0.975]\n",
      "------------------------------------------------------------------------------------------\n",
      "const                     -2.5519      0.525     -4.861      0.000      -3.581      -1.523\n",
      "State                      0.1622      0.160      1.012      0.312      -0.152       0.476\n",
      "Partisan Lean             -0.0295      0.010     -2.940      0.003      -0.049      -0.010\n",
      "Cand_Party_Affiliation     1.0492      0.304      3.455      0.001       0.454       1.645\n",
      "Total_Contribution      1.473e-06   2.18e-07      6.750      0.000    1.05e-06     1.9e-06\n",
      "==========================================================================================\n"
     ]
    }
   ],
   "source": [
    "#model 2: No binary features aside from party\n",
    "freq_model_train_2 = sm.GLM(y_train, exog = sm.add_constant(X_train[['State',\n",
    "        'Partisan Lean', 'Cand_Party_Affiliation', 'Total_Contribution'\n",
    "        ]]), #'Primary %','Primary Status',\n",
    "                  family=sm.families.Binomial())\n",
    "freq_res_train_2 = freq_model_train_2.fit()\n",
    "print(freq_res_train_2.summary())"
   ]
  },
  {
   "cell_type": "code",
   "execution_count": 27,
   "metadata": {},
   "outputs": [
    {
     "name": "stdout",
     "output_type": "stream",
     "text": [
      "                 Generalized Linear Model Regression Results                  \n",
      "==============================================================================\n",
      "Dep. Variable:            Won Primary   No. Observations:                  215\n",
      "Model:                            GLM   Df Residuals:                      211\n",
      "Model Family:                Binomial   Df Model:                            3\n",
      "Link Function:                  logit   Scale:                          1.0000\n",
      "Method:                          IRLS   Log-Likelihood:                -92.253\n",
      "Date:                Mon, 16 Dec 2024   Deviance:                       184.51\n",
      "Time:                        15:52:08   Pearson chi2:                     239.\n",
      "No. Iterations:                     6                                         \n",
      "Covariance Type:            nonrobust                                         \n",
      "==========================================================================================\n",
      "                             coef    std err          z      P>|z|      [0.025      0.975]\n",
      "------------------------------------------------------------------------------------------\n",
      "const                     -3.2916      0.550     -5.985      0.000      -4.370      -2.214\n",
      "Partisan Lean             -0.0691      0.017     -4.048      0.000      -0.103      -0.036\n",
      "Cand_Party_Affiliation     1.8301      0.577      3.174      0.002       0.700       2.960\n",
      "Total_Contribution        1.6e-06    3.5e-07      4.566      0.000    9.13e-07    2.29e-06\n",
      "==========================================================================================\n"
     ]
    }
   ],
   "source": [
    "# model 2: No binary features + party\n",
    "freq_model_test_2 = sm.GLM(y_test, exog = sm.add_constant(X_test[[\n",
    "        'Partisan Lean', 'Cand_Party_Affiliation', 'Total_Contribution',\n",
    "        ]]), #'Primary %',  Primary Status'\n",
    "                  family=sm.families.Binomial())\n",
    "freq_res_test_2 = freq_model_test_2.fit()\n",
    "print(freq_res_test_2.summary())"
   ]
  },
  {
   "cell_type": "code",
   "execution_count": 28,
   "metadata": {},
   "outputs": [],
   "source": [
    "#model 2\n",
    "model_2_aic_train = sm.tools.eval_measures.aic(freq_res_train_2.llf, 435, 3)\n",
    "model_2_aic_test = sm.tools.eval_measures.aic(freq_res_test_2.llf, 215, 3)"
   ]
  },
  {
   "cell_type": "code",
   "execution_count": 29,
   "metadata": {},
   "outputs": [
    {
     "name": "stdout",
     "output_type": "stream",
     "text": [
      "                 Generalized Linear Model Regression Results                  \n",
      "==============================================================================\n",
      "Dep. Variable:            Won Primary   No. Observations:                  435\n",
      "Model:                            GLM   Df Residuals:                      429\n",
      "Model Family:                Binomial   Df Model:                            5\n",
      "Link Function:                  logit   Scale:                          1.0000\n",
      "Method:                          IRLS   Log-Likelihood:                -220.86\n",
      "Date:                Mon, 16 Dec 2024   Deviance:                       441.71\n",
      "Time:                        15:52:10   Pearson chi2:                     822.\n",
      "No. Iterations:                     7                                         \n",
      "Covariance Type:            nonrobust                                         \n",
      "==========================================================================================\n",
      "                             coef    std err          z      P>|z|      [0.025      0.975]\n",
      "------------------------------------------------------------------------------------------\n",
      "const                     -1.7772      0.437     -4.067      0.000      -2.634      -0.921\n",
      "State                      0.0171      0.153      0.112      0.911      -0.282       0.316\n",
      "Race Type                 -1.0917      0.773     -1.413      0.158      -2.606       0.422\n",
      "Cand_Party_Affiliation     0.6452      0.246      2.619      0.009       0.162       1.128\n",
      "Total_Contribution      1.264e-06    2.1e-07      6.019      0.000    8.52e-07    1.68e-06\n",
      "Endorsed?                  0.2455      0.285      0.860      0.390      -0.314       0.805\n",
      "==========================================================================================\n"
     ]
    }
   ],
   "source": [
    "#model 3: Less Features (Removing features with imputations)\n",
    "freq_model_train_3 = sm.GLM(y_train, exog = sm.add_constant(X_train[['State', 'Race Type', 'Cand_Party_Affiliation', 'Total_Contribution',\n",
    "        'Endorsed?']]), #'Primary %','Primary Status',\n",
    "                  family=sm.families.Binomial())\n",
    "freq_res_train_3 = freq_model_train_3.fit()\n",
    "print(freq_res_train_3.summary())"
   ]
  },
  {
   "cell_type": "code",
   "execution_count": 30,
   "metadata": {},
   "outputs": [
    {
     "name": "stdout",
     "output_type": "stream",
     "text": [
      "                 Generalized Linear Model Regression Results                  \n",
      "==============================================================================\n",
      "Dep. Variable:            Won Primary   No. Observations:                  215\n",
      "Model:                            GLM   Df Residuals:                      209\n",
      "Model Family:                Binomial   Df Model:                            5\n",
      "Link Function:                  logit   Scale:                          1.0000\n",
      "Method:                          IRLS   Log-Likelihood:                -100.62\n",
      "Date:                Mon, 16 Dec 2024   Deviance:                       201.24\n",
      "Time:                        15:52:12   Pearson chi2:                     210.\n",
      "No. Iterations:                     6                                         \n",
      "Covariance Type:            nonrobust                                         \n",
      "==========================================================================================\n",
      "                             coef    std err          z      P>|z|      [0.025      0.975]\n",
      "------------------------------------------------------------------------------------------\n",
      "const                     -1.0387      0.620     -1.676      0.094      -2.254       0.176\n",
      "State                     -0.2769      0.242     -1.142      0.254      -0.752       0.198\n",
      "Race Type                 -2.7387      2.140     -1.280      0.201      -6.932       1.455\n",
      "Cand_Party_Affiliation     0.3540      0.359      0.986      0.324      -0.349       1.057\n",
      "Total_Contribution      1.384e-06   3.11e-07      4.456      0.000    7.75e-07    1.99e-06\n",
      "Endorsed?                 -0.1724      0.436     -0.395      0.693      -1.027       0.682\n",
      "==========================================================================================\n"
     ]
    }
   ],
   "source": [
    "freq_model_test_3 = sm.GLM(y_test, exog = sm.add_constant(X_test[['State', 'Race Type', 'Cand_Party_Affiliation', 'Total_Contribution',\n",
    "        'Endorsed?']]), #'Primary %',  Primary Status'\n",
    "                  family=sm.families.Binomial())\n",
    "freq_res_test_3 = freq_model_test_3.fit()\n",
    "print(freq_res_test_3.summary())"
   ]
  },
  {
   "cell_type": "code",
   "execution_count": 31,
   "metadata": {},
   "outputs": [],
   "source": [
    "#model 3\n",
    "model_3_aic_train = sm.tools.eval_measures.aic(freq_res_train_3.llf, 435, 5)\n",
    "model_3_aic_test = sm.tools.eval_measures.aic(freq_res_test_3.llf, 215, 5)"
   ]
  },
  {
   "cell_type": "code",
   "execution_count": 35,
   "metadata": {},
   "outputs": [
    {
     "name": "stdout",
     "output_type": "stream",
     "text": [
      "AIC for Model 1:  445.4325898310659\n",
      "AIC for Model 2:  440.6365179957926\n",
      "AIC for Model 3:  451.7107511201242\n"
     ]
    }
   ],
   "source": [
    "print('AIC for Model 1: ', model_1_aic_train)\n",
    "print('AIC for Model 2: ', model_2_aic_train)\n",
    "print('AIC for Model 3: ', model_3_aic_train)"
   ]
  },
  {
   "cell_type": "markdown",
   "metadata": {},
   "source": [
    "Based on the AIC values, we choose the lowest AIC model, which is model 2."
   ]
  },
  {
   "cell_type": "code",
   "execution_count": 40,
   "metadata": {},
   "outputs": [
    {
     "name": "stdout",
     "output_type": "stream",
     "text": [
      "RMSE for Model 2 Training Data:  0.3976183622810819\n"
     ]
    }
   ],
   "source": [
    "y_pred_prob_train_2 = freq_res_train_2.predict(sm.add_constant(X_train[['State', 'Partisan Lean', 'Cand_Party_Affiliation', 'Total_Contribution']]))\n",
    "print('RMSE for Model 2 Training Data: ', sm.tools.eval_measures.rmse(y_train, y_pred_prob_train_2))"
   ]
  },
  {
   "cell_type": "code",
   "execution_count": 41,
   "metadata": {},
   "outputs": [
    {
     "name": "stdout",
     "output_type": "stream",
     "text": [
      "RMSE for Model 2 Test Data:  0.36748866974152944\n"
     ]
    }
   ],
   "source": [
    "#based on AIC chose model 2\n",
    "y_pred_prob_test_2 = freq_res_test_2.predict(sm.add_constant(X_test[['Partisan Lean', 'Cand_Party_Affiliation', 'Total_Contribution']]))\n",
    "print('RMSE for Model 2 Test Data: ', sm.tools.eval_measures.rmse(y_test, y_pred_prob_test_2))"
   ]
  },
  {
   "attachments": {},
   "cell_type": "markdown",
   "metadata": {},
   "source": [
    "# <b>Research Question 2: Causal Inference"
   ]
  },
  {
   "cell_type": "markdown",
   "metadata": {},
   "source": [
    "### Q) Does endorsement status (whether or not the candidate is endorsed) cause an increase in the percentage of primary votes a candidate receives?"
   ]
  },
  {
   "cell_type": "markdown",
   "metadata": {},
   "source": [
    "Use transformed data from before:"
   ]
  },
  {
   "cell_type": "code",
   "execution_count": 42,
   "metadata": {},
   "outputs": [
    {
     "data": {
      "text/html": [
       "<div>\n",
       "<style scoped>\n",
       "    .dataframe tbody tr th:only-of-type {\n",
       "        vertical-align: middle;\n",
       "    }\n",
       "\n",
       "    .dataframe tbody tr th {\n",
       "        vertical-align: top;\n",
       "    }\n",
       "\n",
       "    .dataframe thead th {\n",
       "        text-align: right;\n",
       "    }\n",
       "</style>\n",
       "<table border=\"1\" class=\"dataframe\">\n",
       "  <thead>\n",
       "    <tr style=\"text-align: right;\">\n",
       "      <th></th>\n",
       "      <th>State</th>\n",
       "      <th>Race Type</th>\n",
       "      <th>Partisan Lean</th>\n",
       "      <th>Race</th>\n",
       "      <th>Total_Contribution</th>\n",
       "      <th>Cand_Party_Affiliation</th>\n",
       "      <th>Endorsed?</th>\n",
       "      <th>Primary %</th>\n",
       "      <th>Primary Status</th>\n",
       "    </tr>\n",
       "  </thead>\n",
       "  <tbody>\n",
       "    <tr>\n",
       "      <th>0</th>\n",
       "      <td>1</td>\n",
       "      <td>0</td>\n",
       "      <td>-30.680000</td>\n",
       "      <td>0.0</td>\n",
       "      <td>46845.21</td>\n",
       "      <td>0</td>\n",
       "      <td>0.0</td>\n",
       "      <td>80.769997</td>\n",
       "      <td>1.0</td>\n",
       "    </tr>\n",
       "    <tr>\n",
       "      <th>1</th>\n",
       "      <td>1</td>\n",
       "      <td>0</td>\n",
       "      <td>-33.660000</td>\n",
       "      <td>1.0</td>\n",
       "      <td>440309.26</td>\n",
       "      <td>0</td>\n",
       "      <td>0.0</td>\n",
       "      <td>65.739998</td>\n",
       "      <td>1.0</td>\n",
       "    </tr>\n",
       "    <tr>\n",
       "      <th>2</th>\n",
       "      <td>1</td>\n",
       "      <td>0</td>\n",
       "      <td>-48.459999</td>\n",
       "      <td>1.0</td>\n",
       "      <td>287432.23</td>\n",
       "      <td>0</td>\n",
       "      <td>0.0</td>\n",
       "      <td>100.000000</td>\n",
       "      <td>1.0</td>\n",
       "    </tr>\n",
       "    <tr>\n",
       "      <th>3</th>\n",
       "      <td>1</td>\n",
       "      <td>0</td>\n",
       "      <td>-34.810001</td>\n",
       "      <td>0.0</td>\n",
       "      <td>137153.22</td>\n",
       "      <td>0</td>\n",
       "      <td>1.0</td>\n",
       "      <td>100.000000</td>\n",
       "      <td>1.0</td>\n",
       "    </tr>\n",
       "    <tr>\n",
       "      <th>4</th>\n",
       "      <td>1</td>\n",
       "      <td>0</td>\n",
       "      <td>-13.510000</td>\n",
       "      <td>0.0</td>\n",
       "      <td>24466.05</td>\n",
       "      <td>0</td>\n",
       "      <td>0.0</td>\n",
       "      <td>9.340000</td>\n",
       "      <td>0.0</td>\n",
       "    </tr>\n",
       "  </tbody>\n",
       "</table>\n",
       "</div>"
      ],
      "text/plain": [
       "   State  Race Type  Partisan Lean  Race  Total_Contribution  \\\n",
       "0      1          0     -30.680000   0.0            46845.21   \n",
       "1      1          0     -33.660000   1.0           440309.26   \n",
       "2      1          0     -48.459999   1.0           287432.23   \n",
       "3      1          0     -34.810001   0.0           137153.22   \n",
       "4      1          0     -13.510000   0.0            24466.05   \n",
       "\n",
       "   Cand_Party_Affiliation  Endorsed?   Primary %  Primary Status  \n",
       "0                       0        0.0   80.769997             1.0  \n",
       "1                       0        0.0   65.739998             1.0  \n",
       "2                       0        0.0  100.000000             1.0  \n",
       "3                       0        1.0  100.000000             1.0  \n",
       "4                       0        0.0    9.340000             0.0  "
      ]
     },
     "execution_count": 42,
     "metadata": {},
     "output_type": "execute_result"
    }
   ],
   "source": [
    "causal_df = X\n",
    "causal_df.head()"
   ]
  },
  {
   "cell_type": "markdown",
   "metadata": {},
   "source": [
    "Visualization to analyze relationship between treatment and outcome variables."
   ]
  },
  {
   "cell_type": "code",
   "execution_count": 44,
   "metadata": {},
   "outputs": [
    {
     "data": {
      "image/png": "[encoded data removed]",
      "text/plain": [
       "<Figure size 432x288 with 1 Axes>"
      ]
     },
     "metadata": {
      "needs_background": "light"
     },
     "output_type": "display_data"
    }
   ],
   "source": [
    "sns.histplot(data=causal_df, x='Primary %', hue='Endorsed?', stat='density')\n",
    "plt.title(\"Lean Densities for Dem\");"
   ]
  },
  {
   "cell_type": "markdown",
   "metadata": {},
   "source": [
    "Visualization to analyze confounding variables such as total contributions."
   ]
  },
  {
   "cell_type": "code",
   "execution_count": 45,
   "metadata": {},
   "outputs": [
    {
     "name": "stderr",
     "output_type": "stream",
     "text": [
      "/Users/minookim/opt/anaconda3/lib/python3.7/site-packages/pandas/core/series.py:679: RuntimeWarning: divide by zero encountered in log\n",
      "  result = getattr(ufunc, method)(*inputs, **kwargs)\n",
      "/Users/minookim/opt/anaconda3/lib/python3.7/site-packages/ipykernel_launcher.py:1: SettingWithCopyWarning: \n",
      "A value is trying to be set on a copy of a slice from a DataFrame.\n",
      "Try using .loc[row_indexer,col_indexer] = value instead\n",
      "\n",
      "See the caveats in the documentation: https://pandas.pydata.org/pandas-docs/stable/user_guide/indexing.html#returning-a-view-versus-a-copy\n",
      "  \"\"\"Entry point for launching an IPython kernel.\n"
     ]
    },
    {
     "data": {
      "image/png": "[encoded data removed]",
      "text/plain": [
       "<Figure size 432x288 with 1 Axes>"
      ]
     },
     "metadata": {
      "needs_background": "light"
     },
     "output_type": "display_data"
    }
   ],
   "source": [
    "causal_df['log Total'] = np.log(causal_df['Total_Contribution'])\n",
    "sns.histplot(data=causal_df, x='log Total', hue='Endorsed?', stat='density')\n",
    "plt.title(\"Log total Density\");"
   ]
  },
  {
   "cell_type": "markdown",
   "metadata": {},
   "source": [
    "<b>Calculate Propensity Scores:</b>\n",
    "\n",
    "Fit Logistic Regression model to calculate propensity scores. In order to do this we need to get the probability of getting the treatment given the covariates."
   ]
  },
  {
   "cell_type": "code",
   "execution_count": 73,
   "metadata": {},
   "outputs": [
    {
     "name": "stderr",
     "output_type": "stream",
     "text": [
      "/Users/minookim/opt/anaconda3/lib/python3.7/site-packages/ipykernel_launcher.py:9: SettingWithCopyWarning: \n",
      "A value is trying to be set on a copy of a slice from a DataFrame.\n",
      "Try using .loc[row_indexer,col_indexer] = value instead\n",
      "\n",
      "See the caveats in the documentation: https://pandas.pydata.org/pandas-docs/stable/user_guide/indexing.html#returning-a-view-versus-a-copy\n",
      "  if __name__ == '__main__':\n"
     ]
    },
    {
     "data": {
      "text/html": [
       "<div>\n",
       "<style scoped>\n",
       "    .dataframe tbody tr th:only-of-type {\n",
       "        vertical-align: middle;\n",
       "    }\n",
       "\n",
       "    .dataframe tbody tr th {\n",
       "        vertical-align: top;\n",
       "    }\n",
       "\n",
       "    .dataframe thead th {\n",
       "        text-align: right;\n",
       "    }\n",
       "</style>\n",
       "<table border=\"1\" class=\"dataframe\">\n",
       "  <thead>\n",
       "    <tr style=\"text-align: right;\">\n",
       "      <th></th>\n",
       "      <th>State</th>\n",
       "      <th>Race Type</th>\n",
       "      <th>Partisan Lean</th>\n",
       "      <th>Race</th>\n",
       "      <th>Total_Contribution</th>\n",
       "      <th>Cand_Party_Affiliation</th>\n",
       "      <th>Endorsed?</th>\n",
       "      <th>Primary %</th>\n",
       "      <th>Primary Status</th>\n",
       "      <th>log Total</th>\n",
       "      <th>pscore</th>\n",
       "    </tr>\n",
       "  </thead>\n",
       "  <tbody>\n",
       "    <tr>\n",
       "      <th>0</th>\n",
       "      <td>1</td>\n",
       "      <td>0</td>\n",
       "      <td>-30.680000</td>\n",
       "      <td>0.0</td>\n",
       "      <td>46845.21</td>\n",
       "      <td>0</td>\n",
       "      <td>0.0</td>\n",
       "      <td>80.769997</td>\n",
       "      <td>1.0</td>\n",
       "      <td>10.754604</td>\n",
       "      <td>0.502743</td>\n",
       "    </tr>\n",
       "    <tr>\n",
       "      <th>1</th>\n",
       "      <td>1</td>\n",
       "      <td>0</td>\n",
       "      <td>-33.660000</td>\n",
       "      <td>1.0</td>\n",
       "      <td>440309.26</td>\n",
       "      <td>0</td>\n",
       "      <td>0.0</td>\n",
       "      <td>65.739998</td>\n",
       "      <td>1.0</td>\n",
       "      <td>12.995233</td>\n",
       "      <td>0.525764</td>\n",
       "    </tr>\n",
       "    <tr>\n",
       "      <th>2</th>\n",
       "      <td>1</td>\n",
       "      <td>0</td>\n",
       "      <td>-48.459999</td>\n",
       "      <td>1.0</td>\n",
       "      <td>287432.23</td>\n",
       "      <td>0</td>\n",
       "      <td>0.0</td>\n",
       "      <td>100.000000</td>\n",
       "      <td>1.0</td>\n",
       "      <td>12.568742</td>\n",
       "      <td>0.516827</td>\n",
       "    </tr>\n",
       "    <tr>\n",
       "      <th>3</th>\n",
       "      <td>1</td>\n",
       "      <td>0</td>\n",
       "      <td>-34.810001</td>\n",
       "      <td>0.0</td>\n",
       "      <td>137153.22</td>\n",
       "      <td>0</td>\n",
       "      <td>1.0</td>\n",
       "      <td>100.000000</td>\n",
       "      <td>1.0</td>\n",
       "      <td>11.828854</td>\n",
       "      <td>0.508032</td>\n",
       "    </tr>\n",
       "    <tr>\n",
       "      <th>4</th>\n",
       "      <td>1</td>\n",
       "      <td>0</td>\n",
       "      <td>-13.510000</td>\n",
       "      <td>0.0</td>\n",
       "      <td>24466.05</td>\n",
       "      <td>0</td>\n",
       "      <td>0.0</td>\n",
       "      <td>9.340000</td>\n",
       "      <td>0.0</td>\n",
       "      <td>10.105042</td>\n",
       "      <td>0.501433</td>\n",
       "    </tr>\n",
       "  </tbody>\n",
       "</table>\n",
       "</div>"
      ],
      "text/plain": [
       "   State  Race Type  Partisan Lean  Race  Total_Contribution  \\\n",
       "0      1          0     -30.680000   0.0            46845.21   \n",
       "1      1          0     -33.660000   1.0           440309.26   \n",
       "2      1          0     -48.459999   1.0           287432.23   \n",
       "3      1          0     -34.810001   0.0           137153.22   \n",
       "4      1          0     -13.510000   0.0            24466.05   \n",
       "\n",
       "   Cand_Party_Affiliation  Endorsed?   Primary %  Primary Status  log Total  \\\n",
       "0                       0        0.0   80.769997             1.0  10.754604   \n",
       "1                       0        0.0   65.739998             1.0  12.995233   \n",
       "2                       0        0.0  100.000000             1.0  12.568742   \n",
       "3                       0        1.0  100.000000             1.0  11.828854   \n",
       "4                       0        0.0    9.340000             0.0  10.105042   \n",
       "\n",
       "     pscore  \n",
       "0  0.502743  \n",
       "1  0.525764  \n",
       "2  0.516827  \n",
       "3  0.508032  \n",
       "4  0.501433  "
      ]
     },
     "execution_count": 73,
     "metadata": {},
     "output_type": "execute_result"
    }
   ],
   "source": [
    "treatment = causal_df['Endorsed?']\n",
    "covariates = causal_df[['State', 'Race Type', 'Partisan Lean', 'Race', 'Total_Contribution', 'Cand_Party_Affiliation', 'Primary Status']] \n",
    "\n",
    "# fit logistic regression model\n",
    "model = LogisticRegression()\n",
    "model.fit(covariates, treatment)\n",
    "\n",
    "# Calculate propensity scores (probability of treatment)\n",
    "causal_df['pscore'] = model.predict_proba(covariates)[:, 1]\n",
    "\n",
    "causal_df.head()\n",
    "\n"
   ]
  },
  {
   "cell_type": "code",
   "execution_count": 74,
   "metadata": {},
   "outputs": [
    {
     "data": {
      "image/png": "[encoded data removed]",
      "text/plain": [
       "<Figure size 432x288 with 1 Axes>"
      ]
     },
     "metadata": {
      "needs_background": "light"
     },
     "output_type": "display_data"
    }
   ],
   "source": [
    "plt.hist(causal_df[causal_df['Endorsed?'] == 1]['pscore']);\n",
    "plt.title(\"Propensity score of people receiving the treatment (Endorsed)\");"
   ]
  },
  {
   "cell_type": "code",
   "execution_count": 75,
   "metadata": {},
   "outputs": [
    {
     "data": {
      "image/png": "[encoded data removed]",
      "text/plain": [
       "<Figure size 432x288 with 1 Axes>"
      ]
     },
     "metadata": {
      "needs_background": "light"
     },
     "output_type": "display_data"
    }
   ],
   "source": [
    "plt.hist(causal_df[causal_df['Endorsed?'] == 0]['pscore']);\n",
    "plt.title(\"Propensity score of people not receiving the treatment (Not Endorsed?)\");"
   ]
  },
  {
   "cell_type": "markdown",
   "metadata": {},
   "source": [
    "We notice that all propensity scores are above 0.5 which may indicate a dominating confounding variable."
   ]
  },
  {
   "cell_type": "markdown",
   "metadata": {},
   "source": [
    "### Implement Inverse Propensity Weighting\n",
    "\n",
    "Use IPW equation:\n",
    "$$\n",
    "\\hat{\\tau}_{IPW} =\n",
    "    \\frac{1}{n}\n",
    "    \\underbrace{%\n",
    "         \\sum_{i: Z_i = 1} \\frac{Y_i}{e(X_i)}\n",
    "    }_{\\text{reweighted treated rows}}\n",
    "    -\n",
    "    \\frac{1}{n}\n",
    "    \\underbrace{%\n",
    "        \\sum_{i: Z_i = 0} \\frac{Y_i}{1-e(X_i)}\n",
    "    }_{\\text{reweighted control rows}}\n",
    "$$\n",
    "and get IPW estimate to see the ATE"
   ]
  },
  {
   "cell_type": "code",
   "execution_count": 76,
   "metadata": {},
   "outputs": [
    {
     "data": {
      "text/plain": [
       "-23.76888741274447"
      ]
     },
     "execution_count": 76,
     "metadata": {},
     "output_type": "execute_result"
    }
   ],
   "source": [
    "# Inverse Propensity Weighting\n",
    "treated_rows = np.sum(causal_df[causal_df['Endorsed?'] == 1]['Primary %'] / causal_df[causal_df['Endorsed?'] == 1].pscore)\n",
    "untreated_rows = np.sum(causal_df[causal_df['Endorsed?'] == 0]['Primary %'] / (1-causal_df[causal_df['Endorsed?'] == 0].pscore))\n",
    "n = causal_df.shape[0]\n",
    "ipw_estimate = 1 / n * treated_rows - 1 / n * untreated_rows\n",
    "ipw_estimate"
   ]
  },
  {
   "cell_type": "markdown",
   "metadata": {},
   "source": [
    "Trim propensity scores as we notice in the graphs above that there are some scores above 0.9 in order to reduce some variability."
   ]
  },
  {
   "cell_type": "code",
   "execution_count": 77,
   "metadata": {},
   "outputs": [
    {
     "data": {
      "text/plain": [
       "-24.171022099222235"
      ]
     },
     "execution_count": 77,
     "metadata": {},
     "output_type": "execute_result"
    }
   ],
   "source": [
    "# Trimming our propensities\n",
    "\n",
    "obs_prop2 = causal_df[(causal_df['pscore'] >= 0.1) & (causal_df['pscore'] <= 0.9)]\n",
    "\n",
    "treated_rows = np.sum(obs_prop2[obs_prop2['Endorsed?'] == 1]['Primary %'] / obs_prop2[obs_prop2['Endorsed?'] == 1].pscore)\n",
    "untreated_rows = np.sum(obs_prop2[obs_prop2['Endorsed?'] == 0]['Primary %'] / (1-obs_prop2[obs_prop2['Endorsed?'] == 0].pscore))\n",
    "n = obs_prop2.shape[0]\n",
    "trimmed_ipw_estimate = 1 / n * treated_rows - 1 / n * untreated_rows\n",
    "trimmed_ipw_estimate\n",
    "\n",
    "# no need to trim our propensity scores as most scores are between 0.1 and 0.9"
   ]
  },
  {
   "attachments": {},
   "cell_type": "markdown",
   "metadata": {},
   "source": [
    "<b>Conclusion:</b> Being endorsed causes a decrease in primary vote percentage by 23.77%."
   ]
  }
 ],
 "metadata": {
  "kernelspec": {
   "display_name": "base",
   "language": "python",
   "name": "python3"
  },
  "language_info": {
   "codemirror_mode": {
    "name": "ipython",
    "version": 3
   },
   "file_extension": ".py",
   "mimetype": "text/x-python",
   "name": "python",
   "nbconvert_exporter": "python",
   "pygments_lexer": "ipython3",
   "version": "3.7.6"
  },
  "orig_nbformat": 4
 },
 "nbformat": 4,
 "nbformat_minor": 2
}
